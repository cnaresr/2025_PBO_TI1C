{
  "nbformat": 4,
  "nbformat_minor": 0,
  "metadata": {
    "colab": {
      "provenance": [],
      "authorship_tag": "ABX9TyO+DcX9ZOd4k+Rs8cd+pUWD",
      "include_colab_link": true
    },
    "kernelspec": {
      "name": "python3",
      "display_name": "Python 3"
    },
    "language_info": {
      "name": "python"
    }
  },
  "cells": [
    {
      "cell_type": "markdown",
      "metadata": {
        "id": "view-in-github",
        "colab_type": "text"
      },
      "source": [
        "<a href=\"https://colab.research.google.com/github/cnaresr/2025_PBO_TI1C/blob/main/Jobsheet6.ipynb\" target=\"_parent\"><img src=\"https://colab.research.google.com/assets/colab-badge.svg\" alt=\"Open In Colab\"/></a>"
      ]
    },
    {
      "cell_type": "markdown",
      "source": [
        "# Latihan"
      ],
      "metadata": {
        "id": "N0HXUxoB2kcC"
      }
    },
    {
      "cell_type": "markdown",
      "source": [
        "## Praktikum 1"
      ],
      "metadata": {
        "id": "LrCYmlav2p-d"
      }
    },
    {
      "cell_type": "code",
      "execution_count": null,
      "metadata": {
        "colab": {
          "base_uri": "https://localhost:8080/"
        },
        "id": "NG_Uj2NzySLN",
        "outputId": "9cc05578-2c7b-48f6-af34-002cf2258cba"
      },
      "outputs": [
        {
          "output_type": "stream",
          "name": "stdout",
          "text": [
            "Definisi Kelas Abstrak 'KendaraanAbstrak' selesai.\n",
            "\n",
            "contoh definisi kelas anak 'Mobil' selesai.\n",
            "Inusialisasi KendaraanAbstrak dengan merk: Toyota\n",
            "Mesin mobil Toyota dinyalakan.\n",
            "Merk kendaraan ini adalah Toyota.\n",
            "Mesin mobil Toyota dimatikan.\n"
          ]
        }
      ],
      "source": [
        "from abc import ABC, abstractmethod\n",
        "\n",
        "class KendaraanAbstrak(ABC):\n",
        "  def __init__(self,merk):\n",
        "    self.merk=merk\n",
        "    print(f\"Inusialisasi KendaraanAbstrak dengan merk: {self.merk}\")\n",
        "\n",
        "  def info_merk(self):\n",
        "    print(f\"Merk kendaraan ini adalah {self.merk}.\")\n",
        "\n",
        "  @abstractmethod\n",
        "  def start_mesin(self):\n",
        "    print(f\"Mesin mobil {self.merk} dinyalakan.\")\n",
        "\n",
        "  def stop_mesin(self):\n",
        "    print(f\"Mesin mobil {self.merk} dimatikan\")\n",
        "\n",
        "if __name__ == \"__main__\":\n",
        "  print (\"Definisi Kelas Abstrak 'KendaraanAbstrak' selesai.\")\n",
        "\n",
        "  class Mobil(KendaraanAbstrak):\n",
        "    def start_mesin(self):\n",
        "      print(f\"Mesin mobil {self.merk} dinyalakan.\")\n",
        "\n",
        "    def stop_mesin(self):\n",
        "      print(f\"Mesin mobil {self.merk} dimatikan.\")\n",
        "\n",
        "  print(\"\\ncontoh definisi kelas anak 'Mobil' selesai.\")\n",
        "  mobil_contoh = Mobil(\"Toyota\")\n",
        "  mobil_contoh.start_mesin()\n",
        "  mobil_contoh.info_merk()\n",
        "  mobil_contoh.stop_mesin()"
      ]
    },
    {
      "cell_type": "markdown",
      "source": [
        "## Praktikum 2"
      ],
      "metadata": {
        "id": "ioLpQa3X4q2-"
      }
    },
    {
      "cell_type": "code",
      "source": [
        "from abc import ABC, abstractmethod\n",
        "\n",
        "class MediaAbstrak(ABC):\n",
        "  def __init__(self, judul):\n",
        "    self.judul=judul\n",
        "    print(f\"Inisialisasi MediaAbstrak dengan judul: {self.judul}\")\n",
        "\n",
        "  @abstractmethod\n",
        "  def play(self):\n",
        "    pass\n",
        "\n",
        "  @abstractmethod\n",
        "  def stop(self):\n",
        "    pass\n",
        "\n",
        "if __name__ == \"__main__\":\n",
        "  print (\"Mencoba membuat objek dari kelas abstrak MediaAbstrak...\")\n",
        "\n",
        "  try:\n",
        "    media=MediaAbstrak(\"Konten Abstrak\")\n",
        "    print (\"Objek berhasil dibuat (SEHARUSNYA TIDAK TERJADI).\")\n",
        "    media.play()\n",
        "\n",
        "  except TypeError as e:\n",
        "    print(f\"\\nGAGAL membuat objek!\")\n",
        "    print(f\"error yang muncul (sesuai harapan): {e}\")\n",
        "    print(\"\\nIni membuktikan bahwa kelas abstrak tidak bisa diinstansiasi\")\n",
        "    print(\"Jika masih memiliki metode abstrak yang belum diimplementasikan.\")"
      ],
      "metadata": {
        "colab": {
          "base_uri": "https://localhost:8080/"
        },
        "id": "cNcQmAGV4rMk",
        "outputId": "30afb791-50d3-4dc6-f586-554c3937202c"
      },
      "execution_count": null,
      "outputs": [
        {
          "output_type": "stream",
          "name": "stdout",
          "text": [
            "Mencoba membuat objek dari kelas abstrak MediaAbstrak...\n",
            "\n",
            "GAGAL membuat objek!\n",
            "error yang muncul (sesuai harapan): Can't instantiate abstract class MediaAbstrak with abstract methods play, stop\n",
            "\n",
            "Ini membuktikan bahwa kelas abstrak tidak bisa diinstansiasi\n",
            "Jika masih memiliki metode abstrak yang belum diimplementasikan.\n"
          ]
        }
      ]
    },
    {
      "cell_type": "markdown",
      "source": [
        "## Praktikum 3"
      ],
      "metadata": {
        "id": "q7I64MzD6Sru"
      }
    },
    {
      "cell_type": "code",
      "source": [
        "!apt-get install -y locales\n",
        "!locale-gen id_ID.UTF-8\n",
        "!update-locale"
      ],
      "metadata": {
        "colab": {
          "base_uri": "https://localhost:8080/"
        },
        "id": "WiSqP6_WAnIh",
        "outputId": "79193f46-49c3-4112-d3f6-0ef3d7dc30f7"
      },
      "execution_count": null,
      "outputs": [
        {
          "output_type": "stream",
          "name": "stdout",
          "text": [
            "Reading package lists... Done\n",
            "Building dependency tree... Done\n",
            "Reading state information... Done\n",
            "locales is already the newest version (2.35-0ubuntu3.9).\n",
            "0 upgraded, 0 newly installed, 0 to remove and 34 not upgraded.\n",
            "Generating locales (this might take a while)...\n",
            "  id_ID.UTF-8... done\n",
            "Generation complete.\n"
          ]
        }
      ]
    },
    {
      "cell_type": "code",
      "source": [
        "from abc import ABC, abstractmethod\n",
        "import locale\n",
        "import random\n",
        "\n",
        "try:\n",
        "  locale.setlocale(locale.LC_ALL, 'id_ID.UTF-8')\n",
        "except locale.Error:\n",
        "  print(\"Locale id_ID.UTF-8 tidak tersedia, gunakan locale default.\")\n",
        "  try:\n",
        "    locale.setlocale(locale.LC_ALL, 'en_US.UTF-8')\n",
        "  except locale.Error:\n",
        "    print(\"Locale id_US.UTF-8 tidak tersedia, menggunakan locale default.\")\n",
        "\n",
        "def format_rupiah(angka):\n",
        "  return f\"RP {angka:,}\".replace(\",\", \".\")\n",
        "\n",
        "class AlatPembayaranAbstrak(ABC):\n",
        "  def __init__(self, nama_metode):\n",
        "    self.nama_metode = nama_metode\n",
        "    print(f\"Inisialisasi alat pembayaran: {self.nama_metode}\")\n",
        "\n",
        "  def info(self):\n",
        "    print(f\"Metode Pembayaran: {self.nama_metode}\")\n",
        "\n",
        "  @abstractmethod\n",
        "  def proses_pembayaran(self, jumlah):\n",
        "    pass\n",
        "\n",
        "class KartuKredit(AlatPembayaranAbstrak):\n",
        "  def __init__(self, nomor_kartu, nama_pemilik):\n",
        "    super().__init__(\"Kartu Kredit\")\n",
        "    self.nomor_kartu= nomor_kartu[-4:]\n",
        "    self.nama_pemilik = nama_pemilik\n",
        "    print(f\"   -> Kartu Kredit **********{self.nomor_kartu}({self.nama_pemilik}) siap.\")\n",
        "\n",
        "  def proses_pembayaran(self, jumlah):\n",
        "    print(f\"  Memproses pembayaran {format_rupiah(jumlah)} via Kartu Kredit **********{self.nomor_kartu}...\")\n",
        "    berhasil = random.choice([True, False])\n",
        "    if berhasil:\n",
        "      print(\"  Pembayaran Kartu Kredit Berhasil.\")\n",
        "      return True\n",
        "    else :\n",
        "      print(\"  Pembayaran Kartu Kredit Gagal (Limit tidak cukup/Error).\")\n",
        "      return False\n",
        "\n",
        "class DompetDigital(AlatPembayaranAbstrak):\n",
        "  def __init__(self, nomor_telepon, nama_provider):\n",
        "    super().__init__(f\"Dompet Digital ({nama_provider})\")\n",
        "    self.nomor_telepon = nomor_telepon\n",
        "    self._saldo = random.randint(50000, 500000)\n",
        "    print(f\"  -> Dompet Digital {self.nomor_telepon} siap (Saldo:{format_rupiah(self._saldo)}).\")\n",
        "\n",
        "  def proses_pembayaran(self, jumlah):\n",
        "    print(f\"  Memproses pembayaran {format_rupiah(jumlah)} via Dompet Digital {self.nomor_telepon}...\")\n",
        "    if jumlah <= self._saldo:\n",
        "      self._saldo -= jumlah\n",
        "      print(\"  Pembayaran Dompet Digital Berhasil.\")\n",
        "      print(f\"  Saldo tersisa: {format_rupiah(self._saldo)}\")\n",
        "      return True\n",
        "    else :\n",
        "      print(\"  Pembayaran Dompet Digital Gagal (Saldo tidak mencukupi).\")\n",
        "      print(f\"  Saldo saat ini: {format_rupiah(self._saldo)}\")\n",
        "      return False\n",
        "\n",
        "if __name__ == \"__main__\":\n",
        "  print(\"\\nMembuat Objek Alat Pembayaran...\")\n",
        "  kartu_bca = KartuKredit(\"1234-5678-9012-3456\", \"Budi Cahyono\")\n",
        "  gopay = DompetDigital(\"08123456789\", \"GoPay\")\n",
        "\n",
        "  print(\"\\nMelakukan pembayaran: \")\n",
        "\n",
        "  print(\"\\nMencoba bayar dengan Kartu Kredit:\")\n",
        "  kartu_bca.info()\n",
        "  status_kk = kartu_bca.proses_pembayaran(150000)\n",
        "  print(f\"  Status Transaksi KK: {'Sukses' if status_kk else 'Gagal'}\")\n",
        "\n",
        "  print(\"\\nMencoba bayar dengan GoPay (Jumlah Kecil): \")\n",
        "  gopay.info()\n",
        "  status_gopay1 = gopay.proses_pembayaran(75000)\n",
        "  print(f\"  Status Transaksi GoPay 1: {'Sukses' if status_gopay1 else 'Gagal'}\")\n",
        "\n",
        "  print(\"\\nMencoba bayar dengan GoPay (Jumlah Besar):\")\n",
        "  gopay.info()\n",
        "  status_gopay2 = gopay.proses_pembayaran(1000000)\n",
        "  print(f\"  Status Transaksi Gopay 2: {'Sukses' if status_gopay2 else 'Gagal'}\")"
      ],
      "metadata": {
        "colab": {
          "base_uri": "https://localhost:8080/"
        },
        "id": "GMwJ9jeP6UZL",
        "outputId": "ee8d7cd7-465a-41cc-a896-1b988b7a4d68"
      },
      "execution_count": null,
      "outputs": [
        {
          "output_type": "stream",
          "name": "stdout",
          "text": [
            "Locale id_ID.UTF-8 tidak tersedia, gunakan locale default.\n",
            "\n",
            "Membuat Objek Alat Pembayaran...\n",
            "Inisialisasi alat pembayaran: Kartu Kredit\n",
            "   -> Kartu Kredit **********3456(Budi Cahyono) siap.\n",
            "Inisialisasi alat pembayaran: Dompet Digital (GoPay)\n",
            "  -> Dompet Digital 08123456789 siap (Saldo:RP 387.023).\n",
            "\n",
            "Melakukan pembayaran: \n",
            "\n",
            "Mencoba bayar dengan Kartu Kredit:\n",
            "Metode Pembayaran: Kartu Kredit\n",
            "  Memproses pembayaran RP 150.000 via Kartu Kredit **********3456...\n",
            "  Pembayaran Kartu Kredit Gagal (Limit tidak cukup/Error).\n",
            "  Status Transaksi KK: Gagal\n",
            "\n",
            "Mencoba bayar dengan GoPay (Jumlah Kecil): \n",
            "Metode Pembayaran: Dompet Digital (GoPay)\n",
            "  Memproses pembayaran RP 75.000 via Dompet Digital 08123456789...\n",
            "  Pembayaran Dompet Digital Berhasil.\n",
            "  Saldo tersisa: RP 312.023\n",
            "  Status Transaksi GoPay 1: Sukses\n",
            "\n",
            "Mencoba bayar dengan GoPay (Jumlah Besar):\n",
            "Metode Pembayaran: Dompet Digital (GoPay)\n",
            "  Memproses pembayaran RP 1.000.000 via Dompet Digital 08123456789...\n",
            "  Pembayaran Dompet Digital Gagal (Saldo tidak mencukupi).\n",
            "  Saldo saat ini: RP 312.023\n",
            "  Status Transaksi Gopay 2: Gagal\n"
          ]
        }
      ]
    },
    {
      "cell_type": "markdown",
      "source": [
        "## Praktikum 4"
      ],
      "metadata": {
        "id": "YRnhtvlEFmB5"
      }
    },
    {
      "cell_type": "code",
      "source": [
        "from abc import ABC, abstractmethod\n",
        "import time\n",
        "\n",
        "class DokumenAbstrak(ABC):\n",
        "  def __init__(self, nama_file):\n",
        "    self.nama_file = nama_file\n",
        "    print(f\"Inisialisasi Dokumen: {self.nama_file}\")\n",
        "\n",
        "  def info_file(self):\n",
        "    print(f\"Nama File: {self.nama_file}\")\n",
        "\n",
        "  @abstractmethod\n",
        "  def cetak(self):\n",
        "    pass\n",
        "\n",
        "  @abstractmethod\n",
        "  def simpan(self):\n",
        "    pass\n",
        "\n",
        "class DokumenTeks(DokumenAbstrak):\n",
        "  def __init__(self, nama_file, isi_teks):\n",
        "    super().__init__(nama_file)\n",
        "    self.isi_teks = isi_teks\n",
        "    print(\"  -> Tipe: Dokumen Teks\")\n",
        "\n",
        "  def cetak(self):\n",
        "    print(f\"Mencetak Dokumen Teks '{self.nama_file}':\")\n",
        "    print(\"=\"*15)\n",
        "    print(self.isi_teks)\n",
        "    print(\"=\"*15)\n",
        "\n",
        "  def simpan(self):\n",
        "    print(f\"Menyimpan Dokumen Teks '{self.nama_file}' ke disk...\")\n",
        "    time.sleep(0.2)\n",
        "    print(\"  -> Berhasil disimpan.\")\n",
        "\n",
        "class Spreadsheet(DokumenAbstrak):\n",
        "  def __init__(self, nama_file, jumlah_baris, jumlah_kolom):\n",
        "    super().__init__(nama_file)\n",
        "    self.baris = jumlah_baris\n",
        "    self.kolom = jumlah_kolom\n",
        "    print(\"  -> Tipe: Spreadsheet\")\n",
        "\n",
        "  def cetak(self):\n",
        "    print(f\"Mencetak Spreadsheet '{self.nama_file}' ({self.baris}baris x {self.kolom}kolom)...\")\n",
        "    print(\"  (Menampilkan pratinjau...)\")\n",
        "\n",
        "  def simpan(self):\n",
        "    print(f\"Menyimpan Spreadsheet '{self.nama_file}' ke format .xlsx...\")\n",
        "    time.sleep(0.3)\n",
        "    print(\"  -> Berhasil disimpan.\")\n",
        "\n",
        "def proses_dokumen(daftar_dokumen):\n",
        "  print(\"\\n====== MEMPROSES SEMUA DOKUMEN ======\")\n",
        "  for doc in daftar_dokumen:\n",
        "    print(f\"\\n--- Memproses {type(doc).__name__}: {doc.nama_file} ---\")\n",
        "    try:\n",
        "      doc.cetak()\n",
        "      doc.simpan()\n",
        "    except Exception as e:\n",
        "      print(f\"  Error saat memproses {doc.nama_file}: {e}\")\n",
        "  print(\"\\n====== SELESAI MEMPROSES DOKUMEN ======\")\n",
        "\n",
        "if __name__ ==\"__main__\":\n",
        "  print(\"Membuat Dokumen...\")\n",
        "  dok1 = DokumenTeks(\"Laporan.txt\", \"Ini adalah isis laporan singkat.\")\n",
        "  dok2 = Spreadsheet(\"data_penjualan.xlsx\", 200,15)\n",
        "  dok3 = DokumenTeks(\"catatan_rapat.txt\", \"Poin penting:\\n- Bahas budget\\n- Tentukan timeline\")\n",
        "\n",
        "  koleksi_dokumen = [dok1, dok2, dok3]\n",
        "\n",
        "  proses_dokumen(koleksi_dokumen)\n",
        "\n"
      ],
      "metadata": {
        "colab": {
          "base_uri": "https://localhost:8080/"
        },
        "id": "7qgz1YPAFn79",
        "outputId": "249edbcd-7c77-4f6d-ad4c-3ff982fbf206"
      },
      "execution_count": null,
      "outputs": [
        {
          "output_type": "stream",
          "name": "stdout",
          "text": [
            "Membuat Dokumen...\n",
            "Inisialisasi Dokumen: Laporan.txt\n",
            "  -> Tipe: Dokumen Teks\n",
            "Inisialisasi Dokumen: data_penjualan.xlsx\n",
            "  -> Tipe: Spreadsheet\n",
            "Inisialisasi Dokumen: catatan_rapat.txt\n",
            "  -> Tipe: Dokumen Teks\n",
            "\n",
            "====== MEMPROSES SEMUA DOKUMEN ======\n",
            "\n",
            "--- Memproses DokumenTeks: Laporan.txt ---\n",
            "Mencetak Dokumen Teks 'Laporan.txt':\n",
            "===============\n",
            "Ini adalah isis laporan singkat.\n",
            "===============\n",
            "Menyimpan Dokumen Teks 'Laporan.txt' ke disk...\n",
            "  -> Berhasil disimpan.\n",
            "\n",
            "--- Memproses Spreadsheet: data_penjualan.xlsx ---\n",
            "Mencetak Spreadsheet 'data_penjualan.xlsx' (200baris x 15kolom)...\n",
            "  (Menampilkan pratinjau...)\n",
            "Menyimpan Spreadsheet 'data_penjualan.xlsx' ke format .xlsx...\n",
            "  -> Berhasil disimpan.\n",
            "\n",
            "--- Memproses DokumenTeks: catatan_rapat.txt ---\n",
            "Mencetak Dokumen Teks 'catatan_rapat.txt':\n",
            "===============\n",
            "Poin penting:\n",
            "- Bahas budget\n",
            "- Tentukan timeline\n",
            "===============\n",
            "Menyimpan Dokumen Teks 'catatan_rapat.txt' ke disk...\n",
            "  -> Berhasil disimpan.\n",
            "\n",
            "====== SELESAI MEMPROSES DOKUMEN ======\n"
          ]
        }
      ]
    },
    {
      "cell_type": "markdown",
      "source": [
        "## Praktikum 5"
      ],
      "metadata": {
        "id": "3hApT6hKhEbU"
      }
    },
    {
      "cell_type": "code",
      "source": [
        "from abc import ABC, abstractmethod\n",
        "import math\n",
        "\n",
        "class BangunDatarAbstrak(ABC):\n",
        "  def __init__(self, nama):\n",
        "    self._nama = nama\n",
        "    print(f\"Inisialisasi BangunDatarAbstrak: {self._nama}\")\n",
        "\n",
        "  @property\n",
        "  def nama(self):\n",
        "    return self._nama\n",
        "\n",
        "  def info_lengkap(self):\n",
        "    print(f\"\\n--- Info Lengkap: {self.nama} ---\")\n",
        "    try:\n",
        "      luas = self.hitung_luas()\n",
        "      print(f\"  Luas  : {luas:.2f}\")\n",
        "    except NotImplementedError:\n",
        "      print(\"  Luas  : Belum diimplementasikan.\")\n",
        "    except Exception as e:\n",
        "      print(f\"  Luas  : Error ({e})\")\n",
        "\n",
        "    try:\n",
        "      keliling = self.hitung_keliling()\n",
        "      print(f\"  Keliling  : {keliling:.2f}\")\n",
        "    except NotImplementedError:\n",
        "      print(\"  Keliling  : Belum diimplementasikan.\")\n",
        "    except Exception as e:\n",
        "      print(f\"  Keliling  : Error ({e})\")\n",
        "    print(\"-\" * (len(self.nama) + 18))\n",
        "\n",
        "  @abstractmethod\n",
        "  def hitung_luas(self):\n",
        "    pass\n",
        "\n",
        "  @abstractmethod\n",
        "  def hitung_keliling(self):\n",
        "    pass\n",
        "\n",
        "class Lingkaran(BangunDatarAbstrak):\n",
        "  def __init__(self, radius):\n",
        "    super().__init__(\"Lingkaran\")\n",
        "    if radius < 0:\n",
        "      raise ValueError(\"Radius tidak boleh negatif\")\n",
        "    self.radius = radius\n",
        "    print(f\"  -> Lingkaran dibuat (Radius: {self.radius}).\")\n",
        "\n",
        "  def hitung_luas(self):\n",
        "    return math.pi * (self.radius ** 2)\n",
        "\n",
        "  def hitung_keliling(self):\n",
        "    return 2 * math.pi * self.radius\n",
        "\n",
        "if __name__ == \"__main__\":\n",
        "  print(\"Membuat Objek Lingkaran...\")\n",
        "  lingkaran_A = Lingkaran(10)\n",
        "\n",
        "  print(f\"\\nNama bangun(via property: {lingkaran_A.nama})\")\n",
        "  lingkaran_A.info_lengkap()\n"
      ],
      "metadata": {
        "colab": {
          "base_uri": "https://localhost:8080/"
        },
        "id": "ww5_AGtohHkH",
        "outputId": "98313088-8615-4dcb-deff-94e09bfffcdf"
      },
      "execution_count": 24,
      "outputs": [
        {
          "output_type": "stream",
          "name": "stdout",
          "text": [
            "Membuat Objek Lingkaran...\n",
            "Inisialisasi BangunDatarAbstrak: Lingkaran\n",
            "  -> Lingkaran dibuat (Radius: 10).\n",
            "\n",
            "Nama bangun(via property: Lingkaran)\n",
            "\n",
            "--- Info Lengkap: Lingkaran ---\n",
            "  Luas  : 314.16\n",
            "  Keliling  : 62.83\n",
            "---------------------------\n"
          ]
        }
      ]
    },
    {
      "cell_type": "markdown",
      "source": [
        "## Praktikum 6"
      ],
      "metadata": {
        "id": "CX8uv9k8pSEA"
      }
    },
    {
      "cell_type": "code",
      "source": [
        "from abc import ABC, abstractmethod\n",
        "\n",
        "class ElemenGrafis(ABC):\n",
        "  def __init__(self, id_elemen, warna):\n",
        "    print(f\"[ElemenGrafis __init__] Membuat elemen dengan ID: {id_elemen}\")\n",
        "    self._id = id_elemen\n",
        "    self.warna = warna\n",
        "\n",
        "  @property\n",
        "  def id_elemen(self):\n",
        "    print(f\"[ElemenGrafis id_elemen getter] Mengakses ID: {self._id}\")\n",
        "    return self._id\n",
        "\n",
        "  @property\n",
        "  @abstractmethod\n",
        "  def posisi(self):\n",
        "    print(\"[ElemenGrafis posisi getter abstract] Metode ini seharusnya di-override.\")\n",
        "\n",
        "  @posisi.setter\n",
        "  @abstractmethod\n",
        "  def posisi(self, koordinat_baru):\n",
        "    print(\"[ElemenGrafis posisi setter abstract] Metode ini seharusnya di-override.\")\n",
        "\n",
        "  @abstractmethod\n",
        "  def gambar(self):\n",
        "    print(\"[ElemenGrafis gambar abstract] Metode ini seharusnya di-override.\")\n",
        "    pass\n",
        "\n",
        "  def info_warna(self):\n",
        "    print(f\"[ElemenGrafis info_warna] Warna elemen {self.id_elemen}: {self.warna}\")\n",
        "\n",
        "class Kotak(ElemenGrafis):\n",
        "  def __init__(self, id_elemen, warna, x=0, y=0, lebar=10, tinggi=10):\n",
        "    super().__init__(id_elemen, warna)\n",
        "    print(f\"[Kotak __init__] Menginisialisasi Kotak ID: {self.id_elemen}\")\n",
        "    self._x = x\n",
        "    self._y = y\n",
        "    self.lebar = lebar\n",
        "    self.tinggi = tinggi\n",
        "\n",
        "  @property\n",
        "  def posisi(self):\n",
        "    print(f\"[Kotak posisi getter] Mengembalikan posisi Kotak {self.id_elemen}: ({self._x},{self._y})\")\n",
        "    return (self._x, self._y)\n",
        "\n",
        "  @posisi.setter\n",
        "  def posisi(self, koordinat_baru):\n",
        "    print(f\"[Kotak posisi setter] Mencoba set posisi Kotak {self.id_elemen} ke {koordinat_baru}\")\n",
        "    if isinstance(koordinat_baru, tuple) and len(koordinat_baru) == 2:\n",
        "      self._x = koordinat_baru[0]\n",
        "      self._y = koordinat_baru[1]\n",
        "      print(f\"  -> Posisi Kotak {self.id_elemen} berhasil diubah ke ({self._x},{self._y})\")\n",
        "    else :\n",
        "      print(\"  -> Gagal: Posisi harus berupa tuple (x, y).\")\n",
        "\n",
        "  def gambar(self):\n",
        "    print(f\"[Kotak gambar] Menggambar Kotak '{self.id_elemen}' warna {self.warna} di ({self._x}, {self._y}) dengan ukuran {self.lebar}xs{self.tinggi}\")\n",
        "\n",
        "if __name__ == \"__main__\":\n",
        "  print(\"Membuat Objek Kotak...\")\n",
        "  kotak1 = Kotak(\"KotakA\", \"Merah\", x=5,y=10, lebar=20)\n",
        "  print(\"-\"*30)\n",
        "\n",
        "  print(\"Mengakses Id...\")\n",
        "  id_ktk = kotak1.id_elemen\n",
        "  print(\"-\"*30)\n",
        "\n",
        "  print(\"Mengakses Posisi Awal...\")\n",
        "  pos_awal = kotak1.posisi\n",
        "  print(\"-\"*30)\n",
        "\n",
        "  print(\"Mengubah Posisi...\")\n",
        "  kotak1.posisi = (50,60)\n",
        "  print(\"-\"*30)\n",
        "\n",
        "  print(\"Mengakses Posisi Baru...\")\n",
        "  pos_baru = kotak1.posisi\n",
        "  print(\"-\"*30)\n",
        "\n",
        "  print(\"Mencoba Set Posisi Salah...\")\n",
        "  kotak1.posisi = [100,200]\n",
        "  print(\"-\"*30)\n",
        "\n",
        "  print(\"Menggambar Kotak...\")\n",
        "  kotak1.gambar()\n",
        "  print(\"-\"*30)\n",
        "\n",
        "  print(\"Mencoba Info Warna...\")\n",
        "  kotak1.info_warna()\n",
        "  print(\"-\"*30)\n",
        "\n",
        "  print(\"Info Warna...\")\n",
        "  kotak1.info_warna()\n",
        "  print(\"-\"*30)"
      ],
      "metadata": {
        "colab": {
          "base_uri": "https://localhost:8080/"
        },
        "id": "q6bxySIupTlg",
        "outputId": "1d1babfb-7b81-4371-aa32-0552c66f6f7c"
      },
      "execution_count": 27,
      "outputs": [
        {
          "output_type": "stream",
          "name": "stdout",
          "text": [
            "Membuat Objek Kotak...\n",
            "[ElemenGrafis __init__] Membuat elemen dengan ID: KotakA\n",
            "[ElemenGrafis id_elemen getter] Mengakses ID: KotakA\n",
            "[Kotak __init__] Menginisialisasi Kotak ID: KotakA\n",
            "------------------------------\n",
            "Mengakses Id...\n",
            "[ElemenGrafis id_elemen getter] Mengakses ID: KotakA\n",
            "------------------------------\n",
            "Mengakses Posisi Awal...\n",
            "[ElemenGrafis id_elemen getter] Mengakses ID: KotakA\n",
            "[Kotak posisi getter] Mengembalikan posisi Kotak KotakA: (5,10)\n",
            "------------------------------\n",
            "Mengubah Posisi...\n",
            "[ElemenGrafis id_elemen getter] Mengakses ID: KotakA\n",
            "[Kotak posisi setter] Mencoba set posisi Kotak KotakA ke (50, 60)\n",
            "[ElemenGrafis id_elemen getter] Mengakses ID: KotakA\n",
            "  -> Posisi Kotak KotakA berhasil diubah ke (50,60)\n",
            "------------------------------\n",
            "Mengakses Posisi Baru...\n",
            "[ElemenGrafis id_elemen getter] Mengakses ID: KotakA\n",
            "[Kotak posisi getter] Mengembalikan posisi Kotak KotakA: (50,60)\n",
            "------------------------------\n",
            "Mencoba Set Posisi Salah...\n",
            "[ElemenGrafis id_elemen getter] Mengakses ID: KotakA\n",
            "[Kotak posisi setter] Mencoba set posisi Kotak KotakA ke [100, 200]\n",
            "  -> Gagal: Posisi harus berupa tuple (x, y).\n",
            "------------------------------\n",
            "Menggambar Kotak...\n",
            "[ElemenGrafis id_elemen getter] Mengakses ID: KotakA\n",
            "[Kotak gambar] Menggambar Kotak 'KotakA' warna Merah di (50, 60) dengan ukuran 20xs10\n",
            "------------------------------\n",
            "Mencoba Info Warna...\n",
            "[ElemenGrafis id_elemen getter] Mengakses ID: KotakA\n",
            "[ElemenGrafis info_warna] Warna elemen KotakA: Merah\n",
            "------------------------------\n",
            "Info Warna...\n",
            "[ElemenGrafis id_elemen getter] Mengakses ID: KotakA\n",
            "[ElemenGrafis info_warna] Warna elemen KotakA: Merah\n",
            "------------------------------\n"
          ]
        }
      ]
    }
  ]
}