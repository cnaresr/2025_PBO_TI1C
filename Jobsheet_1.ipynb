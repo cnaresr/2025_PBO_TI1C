{
  "nbformat": 4,
  "nbformat_minor": 0,
  "metadata": {
    "colab": {
      "provenance": [],
      "authorship_tag": "ABX9TyNbvZt+wfEcj4g0Pd6b0sGn",
      "include_colab_link": true
    },
    "kernelspec": {
      "name": "python3",
      "display_name": "Python 3"
    },
    "language_info": {
      "name": "python"
    }
  },
  "cells": [
    {
      "cell_type": "markdown",
      "metadata": {
        "id": "view-in-github",
        "colab_type": "text"
      },
      "source": [
        "<a href=\"https://colab.research.google.com/github/cnaresr/2025_PBO_TI1C/blob/main/Jobsheet_1.ipynb\" target=\"_parent\"><img src=\"https://colab.research.google.com/assets/colab-badge.svg\" alt=\"Open In Colab\"/></a>"
      ]
    },
    {
      "cell_type": "markdown",
      "source": [
        "# Jobsheet 1"
      ],
      "metadata": {
        "id": "Q4UCIxtfPLpX"
      }
    },
    {
      "cell_type": "markdown",
      "source": [
        "**Praktikum 1**\n",
        " Tipe Data Dasar"
      ],
      "metadata": {
        "id": "IbV6C3nJNbbB"
      }
    },
    {
      "cell_type": "code",
      "source": [
        "# tipe data dasar python\n",
        "\n",
        "# 1. Numerik (int, float, complex)\n",
        "## integer (int)\n",
        "angka_int = 10\n",
        "print (\"angka_int =\", angka_int ,\"->\", type(angka_int))\n",
        "print (\"Hasil dari melakukan percobaan\\n\")\n",
        "\n",
        "## Float\n",
        "angka_float = 3.14\n",
        "print (\"angka_float =\", angka_float, \"->\", type(angka_float))\n",
        "print (\"Hasil dari melakukan percobaan\\n\")\n",
        "\n",
        "## Complex\n",
        "angka_complex = 2 + 3j\n",
        "print(\"angka_complex =\", angka_complex, \"->\", type(angka_complex))\n",
        "print(\"Hasil dari melakukan percobaan\\n\")\n",
        "\n",
        "kesimpulan = \"\"\"Integer merupakan tipe data bilangan bulat.\n",
        "Float merupakan tipe data bilangan desimal/pecahan.\n",
        "Complex merupakan tipe data bilangan kompleks yang terdiri dari bilngan real dan imajiner.\"\"\"\n",
        "print(kesimpulan)\n"
      ],
      "metadata": {
        "id": "ODEXWu1HNbGo",
        "outputId": "f0d4428c-eb72-441b-b9e8-2eab45562a5f",
        "colab": {
          "base_uri": "https://localhost:8080/"
        }
      },
      "execution_count": 59,
      "outputs": [
        {
          "output_type": "stream",
          "name": "stdout",
          "text": [
            "angka_int = 10 -> <class 'int'>\n",
            "Hasil dari melakukan percobaan\n",
            "\n",
            "angka_float = 3.14 -> <class 'float'>\n",
            "Hasil dari melakukan percobaan\n",
            "\n",
            "angka_complex = (2+3j) -> <class 'complex'>\n",
            "Hasil dari melakukan percobaan\n",
            "\n",
            "Integer merupakan tipe data bilangan bulat.\n",
            "Float merupakan tipe data bilangan desimal/pecahan.\n",
            "Complex merupakan tipe data bilangan kompleks yang terdiri dari bilngan real dan imajiner.\n"
          ]
        }
      ]
    },
    {
      "cell_type": "code",
      "source": [
        "# 2. Boolean\n",
        "is_active = True\n",
        "print (\"is_active =\", is_active, \"->\", type(is_active))\n",
        "print (\"Hasil dari melakukan percobaan\\n\")\n",
        "print (\"Boolean merupakan tipe data yang hanya memiliki dua nilai yaitu True dan False\")\n"
      ],
      "metadata": {
        "id": "MwbsPi-NS3wZ",
        "outputId": "281a909f-2594-4c9a-fd7c-7c0364a90566",
        "colab": {
          "base_uri": "https://localhost:8080/"
        }
      },
      "execution_count": 18,
      "outputs": [
        {
          "output_type": "stream",
          "name": "stdout",
          "text": [
            "is_active = True -> <class 'bool'>\n",
            "Hasil dari melakukan percobaan\n",
            "\n",
            "Boolean merupakan tipe data yang hanya memiliki dua nilai yaitu True dan False\n"
          ]
        }
      ]
    },
    {
      "cell_type": "code",
      "source": [
        "# 3. String\n",
        "teks = \"Hello, World\"\n",
        "print (\"teks =\", teks, \"->\", type(teks))\n",
        "print (\"Hasil dari melakukan percobaan\\n\")\n",
        "print (\"String merupakan tipe data yang digunakan untuk menyimpan teks atau karakter\")\n"
      ],
      "metadata": {
        "id": "H1WybXFrTMaL",
        "outputId": "5ae83c31-ac21-4821-fe64-4b35ada8ddff",
        "colab": {
          "base_uri": "https://localhost:8080/"
        }
      },
      "execution_count": 19,
      "outputs": [
        {
          "output_type": "stream",
          "name": "stdout",
          "text": [
            "teks = Hello, World -> <class 'str'>\n",
            "Hasil dari melakukan percobaan\n",
            "\n",
            "String merupakan tipe data yang digunakan untuk menyimpan teks atau karakter\n"
          ]
        }
      ]
    },
    {
      "cell_type": "code",
      "source": [
        "# 4. List\n",
        "daftar_angka = [1, 2, 3, 4, 5]\n",
        "print (\"daftar_angka =\", daftar_angka, \"->\", type(daftar_angka))\n",
        "print (\"Hasil dari melakukan percobaan\\n\")\n",
        "print (\"List adalah tipe data terurut dan dapat diubah (mutable)\")"
      ],
      "metadata": {
        "id": "cdkYIelITix6",
        "outputId": "071ab462-f908-49a2-c77c-5e0db3bb4cec",
        "colab": {
          "base_uri": "https://localhost:8080/"
        }
      },
      "execution_count": 14,
      "outputs": [
        {
          "output_type": "stream",
          "name": "stdout",
          "text": [
            "daftar_angka = [1, 2, 3, 4, 5] -> <class 'list'>\n",
            "Hasil dari melakukan percobaan\n",
            "\n",
            "List adalah tipe data terurut dan dapat diubah (mutable)\n"
          ]
        }
      ]
    },
    {
      "cell_type": "code",
      "source": [
        "# 5. Tuple\n",
        "koordinat = (10, 20)\n",
        "print (\"koordinat =\", koordinat, \"->\", type(koordinat))\n",
        "print (\"Hasil dari melakukan percobaan\\n\")\n",
        "print (\"Tuple adalah tipe data terurut tetapi tidak dapat diubah (immutable)\")"
      ],
      "metadata": {
        "id": "k6sIScBKUFqG",
        "outputId": "2c0008a2-f49f-43e2-82b2-9d922ff1c036",
        "colab": {
          "base_uri": "https://localhost:8080/"
        }
      },
      "execution_count": 15,
      "outputs": [
        {
          "output_type": "stream",
          "name": "stdout",
          "text": [
            "koordinat = (10, 20) -> <class 'tuple'>\n",
            "Hasil dari melakukan percobaan\n",
            "\n",
            "Tuple adalah tipe data terurut tetapi tidak dapat diubah (immutable)\n"
          ]
        }
      ]
    },
    {
      "cell_type": "code",
      "source": [
        "# 6. Dictionary\n",
        "data_Mahasiswa = {\n",
        "    \"nama\": \"Andi\",\n",
        "    \"NIM\" : \"A11.2022.12345\",\n",
        "    \"Jurusan\" : \"Teknik Informatika\"\n",
        "}\n",
        "print('data_Mahasiswa =', data_Mahasiswa, '->', type(data_Mahasiswa))\n",
        "print(\"Hasil dari melakukan percobaan\\n\")"
      ],
      "metadata": {
        "id": "StsMgzpYUa2I",
        "outputId": "67fc0625-09b8-4a0d-a57b-2fad507122ec",
        "colab": {
          "base_uri": "https://localhost:8080/"
        }
      },
      "execution_count": 21,
      "outputs": [
        {
          "output_type": "stream",
          "name": "stdout",
          "text": [
            "data_Mahasiswa = {'nama': 'Andi', 'NIM': 'A11.2022.12345', 'Jurusan': 'Teknik Informatika'} -> <class 'dict'>\n",
            "Hasil dari melakukan percobaan\n",
            "\n"
          ]
        }
      ]
    },
    {
      "cell_type": "code",
      "source": [
        "# 7. Set\n",
        "himpunan_angka = (1,2,3,2,1)\n",
        "print(\"himpunan_angka =\", himpunan_angka, \"->\", type(himpunan_angka))\n",
        "print(\"Hasil dari melakukan percobaan\\n\")\n",
        "print(\"Set adalah tipe data yang tidak terurut dan unik\")"
      ],
      "metadata": {
        "id": "ajSXxaGHWwA1",
        "outputId": "3ffa2c78-2c21-4b87-e34c-d8d3742a682f",
        "colab": {
          "base_uri": "https://localhost:8080/"
        }
      },
      "execution_count": 23,
      "outputs": [
        {
          "output_type": "stream",
          "name": "stdout",
          "text": [
            "himpunan_angka = (1, 2, 3, 2, 1) -> <class 'tuple'>\n",
            "Hasil dari melakukan percobaan\n",
            "\n",
            "Set adalah tipe data yang tidak terurut dan unik\n"
          ]
        }
      ]
    },
    {
      "cell_type": "code",
      "source": [
        "# 8. Contoh penggunaan konversi tipe data\n",
        "nilai_str = \"100\"\n",
        "print(\"nilai_str =\", nilai_str, \"->\", type(nilai_str))\n",
        "nilai_int = int(nilai_str) # konversi string ke integer\n",
        "print(\"nilai_int =\", nilai_int, \"->\", type(nilai_int))\n",
        "print(\"Hasil dari melakukan percobaan\\n\")"
      ],
      "metadata": {
        "id": "YBmo5ErIXlE5",
        "outputId": "19a1e518-86a4-49a2-dd52-82267ee34550",
        "colab": {
          "base_uri": "https://localhost:8080/"
        }
      },
      "execution_count": 36,
      "outputs": [
        {
          "output_type": "stream",
          "name": "stdout",
          "text": [
            "nilai_str = 100 -> <class 'str'>\n",
            "nilai_int = 100 -> <class 'int'>\n",
            "Hasil dari melakukan percobaan\n",
            "\n"
          ]
        }
      ]
    },
    {
      "cell_type": "markdown",
      "source": [
        "**Praktikum 2**\n",
        "Variable dan Operasi Dasar"
      ],
      "metadata": {
        "id": "3Eb2HPP2YFz_"
      }
    },
    {
      "cell_type": "code",
      "source": [
        "# 1. Pendeklarasian Variabel\n",
        "nama = \"Budi\"\n",
        "umur = 20\n",
        "tinggi = 170.5\n",
        "is_student = True\n",
        "print(\"Nama =\", nama)\n",
        "print(\"Umur =\", umur)\n",
        "print(\"Tinggi =\", tinggi, \"cm\")\n",
        "print(\"Mahasiswa =\", is_student)\n",
        "# Python tidak memerlukan deklarasi tipe data secara eksplisit.\n",
        "# Tipe data variabel akan menyesuaikan nilai yang diberikan.\n"
      ],
      "metadata": {
        "id": "gWuYXozWXjcc",
        "outputId": "3175c11f-eb86-4368-bbe3-4a98a1a835d9",
        "colab": {
          "base_uri": "https://localhost:8080/"
        }
      },
      "execution_count": 30,
      "outputs": [
        {
          "output_type": "stream",
          "name": "stdout",
          "text": [
            "Nama = Budi\n",
            "Umur = 20\n",
            "Tinggi = 170.5 cm\n",
            "Mahasiswa = True\n"
          ]
        }
      ]
    },
    {
      "cell_type": "code",
      "source": [
        "# 2. Operasi Aritmatika\n",
        "a = 10\n",
        "b = 3\n",
        "penjumlahan = a + b # Tambah\n",
        "pengurangan = a - b # Kurang\n",
        "perkalian = a * b # Kali\n",
        "pembagian = a / b # Bagi (hasil float)\n",
        "pembagian_bulat = a // b # Bagi (bulat)\n",
        "modulus = a % b # Sisa bagi\n",
        "pangkat = a ** b # Pemangkatan\n",
        "\n",
        "print(\"OPERASI ARITMETIKA\")\n",
        "print(\"a =\", a, \", b =\", b)\n",
        "print(\"\\nPenjumlahan =\", penjumlahan)\n",
        "print(\"Pengurangan =\", pengurangan)\n",
        "print(\"Perkalian =\", perkalian)\n",
        "print(\"Pembagian =\", pembagian)\n",
        "print(\"Pembagian Bulat =\", pembagian_bulat)\n",
        "print(\"Modulus =\", modulus)\n",
        "print(\"Pangkat =\", pangkat)"
      ],
      "metadata": {
        "id": "0FEXunYJZa7L",
        "outputId": "ce30d776-e75c-4b95-b031-e472873b1e1e",
        "colab": {
          "base_uri": "https://localhost:8080/"
        }
      },
      "execution_count": 46,
      "outputs": [
        {
          "output_type": "stream",
          "name": "stdout",
          "text": [
            "OPERASI ARITMETIKA\n",
            "a = 10 , b = 3\n",
            "\n",
            "Penjumlahan = 13\n",
            "Pengurangan = 7\n",
            "Perkalian = 30\n",
            "Pembagian = 3.3333333333333335\n",
            "Pembagian Bulat = 3\n",
            "Modulus = 1\n",
            "Pangkat = 1000\n"
          ]
        }
      ]
    },
    {
      "cell_type": "code",
      "source": [
        "# 3. Operasi Perbandingan\n",
        "# Menghasilkan nilai Boolean (True/False)\n",
        "lebih_besar = a > b\n",
        "kurang_dari = a < b\n",
        "sama_dengan = a == b\n",
        "tidak_sama = a != b\n",
        "lebih_besar_sama = a >= b\n",
        "kurang_sama = a <= b\n",
        "\n",
        "print(\"\\nOPERASI PERBANDINGAN\")\n",
        "print(\"a > b =\", lebih_besar)\n",
        "print(\"a < b =\", kurang_dari)\n",
        "print(\"a == b =\", sama_dengan)\n",
        "print(\"a != b =\", tidak_sama)\n",
        "print(\"a >= b =\", lebih_besar_sama)\n",
        "print(\"a <= b =\", kurang_sama)"
      ],
      "metadata": {
        "id": "7-MXdEnKZ2Y-",
        "outputId": "894128c8-99bf-433d-bae5-40ebc3892809",
        "colab": {
          "base_uri": "https://localhost:8080/"
        }
      },
      "execution_count": 32,
      "outputs": [
        {
          "output_type": "stream",
          "name": "stdout",
          "text": [
            "\n",
            "OPERASI PERBANDINGAN\n",
            "a > b = True\n",
            "a < b = False\n",
            "a == b = False\n",
            "a != b = True\n",
            "a >= b = True\n",
            "a <= b = False\n"
          ]
        }
      ]
    },
    {
      "cell_type": "code",
      "source": [
        "# 4. Operasi Logika\n",
        "# and, or, not\n",
        "x = True\n",
        "y = False\n",
        "\n",
        "logika_and = x and y\n",
        "logika_or = x or y\n",
        "logika_not_x = not x\n",
        "\n",
        "print(\"\\nOPERASI LOGIKA\")\n",
        "print(\"x =\", x, \", y =\", y)\n",
        "print(\"x and y =\", logika_and)\n",
        "print(\"x or y =\", logika_or)\n",
        "print(\"not x =\", logika_not_x)\n"
      ],
      "metadata": {
        "id": "VNxx-3fkaUxY",
        "outputId": "ad2d37a9-1d34-4532-8c09-925fd98fe233",
        "colab": {
          "base_uri": "https://localhost:8080/"
        }
      },
      "execution_count": 33,
      "outputs": [
        {
          "output_type": "stream",
          "name": "stdout",
          "text": [
            "\n",
            "OPERASI LOGIKA\n",
            "x = True , y = False\n",
            "x and y = False\n",
            "x or y = True\n",
            "not x = False\n"
          ]
        }
      ]
    },
    {
      "cell_type": "code",
      "source": [
        "# 5. Contoh penggunaan di dalam percabangan\n",
        "if a > b and b > 0:\n",
        "  print(\"\\nKondisi terpenuhi: a lebih besar dari b, dan b masih positif.\")\n",
        "else:\n",
        "  print(\"\\nKondisi tidak terpenuhi atau b <= 0.\")"
      ],
      "metadata": {
        "id": "-C-30c61aemt",
        "outputId": "85758b06-c292-4558-f54b-6aad0d729cf7",
        "colab": {
          "base_uri": "https://localhost:8080/"
        }
      },
      "execution_count": 35,
      "outputs": [
        {
          "output_type": "stream",
          "name": "stdout",
          "text": [
            "\n",
            "Kondisi terpenuhi: a lebih besar dari b, dan b masih positif.\n"
          ]
        }
      ]
    },
    {
      "cell_type": "markdown",
      "source": [
        "**Praktikum 3**\n",
        "Percabangan"
      ],
      "metadata": {
        "id": "OR8y9zwdavbB"
      }
    },
    {
      "cell_type": "code",
      "source": [
        "# 1. IF Sederhana\n",
        " # Program hanya mengeksekusi blok jika kondisinya True\n",
        "\n",
        "nilai = 85\n",
        "print(\"Contoh IF Sederhana:\")\n",
        "if nilai > 80:\n",
        "  print(\"Selamat! Anda lulus dengan nilai tinggi.\\n\")\n"
      ],
      "metadata": {
        "id": "4zjSn4KjauYo",
        "outputId": "a44acb14-bcb9-46d3-f805-004cef0cba6c",
        "colab": {
          "base_uri": "https://localhost:8080/"
        }
      },
      "execution_count": 47,
      "outputs": [
        {
          "output_type": "stream",
          "name": "stdout",
          "text": [
            "Contoh IF Sederhana:\n",
            "Selamat! Anda lulus dengan nilai tinggi.\n",
            "\n"
          ]
        }
      ]
    },
    {
      "cell_type": "code",
      "source": [
        "# 2. IF-ELSE\n",
        " # Jika kondisi True, eksekusi blok if; jika False, eksekusi blok else\n",
        "\n",
        "umur = 17\n",
        "print(\"Contoh IF-ELSE:\")\n",
        "if umur >= 18:\n",
        "  print(\"Anda sudah cukup umur untuk mendapatkan SIM.\")\n",
        "else:\n",
        "  print(\"Anda belum cukup umur untuk mendapatkan SIM.\\n\")"
      ],
      "metadata": {
        "id": "iRNOqHa9cqZb",
        "outputId": "9a9f74a7-c05f-47aa-8983-bd967e396e38",
        "colab": {
          "base_uri": "https://localhost:8080/"
        }
      },
      "execution_count": 48,
      "outputs": [
        {
          "output_type": "stream",
          "name": "stdout",
          "text": [
            "Contoh IF-ELSE:\n",
            "Anda belum cukup umur untuk mendapatkan SIM.\n",
            "\n"
          ]
        }
      ]
    },
    {
      "cell_type": "code",
      "source": [
        "# 3. IF-ELIF-ELSE\n",
        "\n",
        "hari = \"Rabu\"\n",
        "print(\"Contoh IF-ELIF-ELSE:\")\n",
        "if hari == \"Senin\":\n",
        "  print(\"Hari Senin - Saatnya kembali bekerja!\")\n",
        "elif hari == \"Selasa\":\n",
        "  print(\"Hari Selasa - Jadwal rapat mingguan.\")\n",
        "elif hari == \"Rabu\":\n",
        "  print(\"Hari Rabu - Ada diskon di beberapa toko.\")\n",
        "else:\n",
        "  print(\"Hari lainnya - Atur jadwalmu dengan baik.\\n\")"
      ],
      "metadata": {
        "id": "2v3SVODBc1uE",
        "outputId": "fca93529-1369-461f-aa6f-8d125b036a14",
        "colab": {
          "base_uri": "https://localhost:8080/"
        }
      },
      "execution_count": 49,
      "outputs": [
        {
          "output_type": "stream",
          "name": "stdout",
          "text": [
            "Contoh IF-ELIF-ELSE:\n",
            "Hari Rabu - Ada diskon di beberapa toko.\n"
          ]
        }
      ]
    },
    {
      "cell_type": "code",
      "source": [
        "# 4. IF Bersarang (Nested IF)\n",
        "\n",
        "suhu = 35\n",
        "print(\"Contoh IF Bersarang (Nested IF):\")\n",
        "if suhu > 30:\n",
        "  print(\"Cuaca cukup panas.\")\n",
        "  if suhu > 40:\n",
        "    print(\"Bahkan sangat terik! Disarankan banyak minum air.\")\n",
        "  else:\n",
        "    print(\"Masih relatif normal, tapi tetap jaga kesehatan.\")\n",
        "else:\n",
        "  print(\"Cuaca sepertinya cukup sejuk.\\n\")"
      ],
      "metadata": {
        "id": "dF-FCDmpdN8l",
        "outputId": "9b35fd0e-0157-42a7-f2f1-c880719f9ec9",
        "colab": {
          "base_uri": "https://localhost:8080/"
        }
      },
      "execution_count": 51,
      "outputs": [
        {
          "output_type": "stream",
          "name": "stdout",
          "text": [
            "Contoh IF Bersarang (Nested IF):\n",
            "Cuaca cukup panas.\n",
            "Masih relatif normal, tapi tetap jaga kesehatan.\n"
          ]
        }
      ]
    },
    {
      "cell_type": "code",
      "source": [
        "# 5. Menggabungkan Percabangan dengan Operasi Logika\n",
        "# Memeriksa beberapa kondisi sekaligus dengan and, or, not\n",
        "\n",
        "nilai_teori = 75\n",
        "nilai_praktik = 80\n",
        "print(\"Contoh IF dengan Operasi Logika AND/OR:\")\n",
        "if nilai_teori >= 70 and nilai_praktik >= 70:\n",
        "  print(\"Anda lulus karena nilai teori dan praktik memadai.\")\n",
        "elif nilai_teori < 70 and nilai_praktik < 70:\n",
        "  print(\"Anda perlu meningkatkan nilai teori dan praktik.\")\n",
        "elif nilai_teori < 70:\n",
        "  print(\"Anda perlu meningkatkan nilai teori.\")\n",
        "else:\n",
        "  print(\"Anda perlu meningkatkan nilai praktik.\\n\")\n"
      ],
      "metadata": {
        "id": "Hj_59YfheA9F",
        "outputId": "4636744c-4b62-4ba7-c049-8e01d04e78f8",
        "colab": {
          "base_uri": "https://localhost:8080/"
        }
      },
      "execution_count": 52,
      "outputs": [
        {
          "output_type": "stream",
          "name": "stdout",
          "text": [
            "Contoh IF dengan Operasi Logika AND/OR:\n",
            "Anda lulus karena nilai teori dan praktik memadai.\n"
          ]
        }
      ]
    },
    {
      "cell_type": "code",
      "source": [
        "# 6. Penggunaan If Ternary (atau Conditional Expression)\n",
        "# Bentuk ringkas: <hasil_if_true> if <kondisi> else <hasil_if_false>\n",
        "\n",
        "angka = -5\n",
        "print(\"Contoh If Ternary (Conditional Expression):\")\n",
        "status = \"Positif\" if angka > 0 else \"Negatif atau Nol\"\n",
        "print(\"Angka =\", angka, \"=>\", status)"
      ],
      "metadata": {
        "id": "7CRcNqNWeQC-",
        "outputId": "2f98fc91-fdff-402f-8aa2-f12d244898ef",
        "colab": {
          "base_uri": "https://localhost:8080/"
        }
      },
      "execution_count": 53,
      "outputs": [
        {
          "output_type": "stream",
          "name": "stdout",
          "text": [
            "Contoh If Ternary (Conditional Expression):\n",
            "Angka = -5 => Negatif atau Nol\n"
          ]
        }
      ]
    },
    {
      "cell_type": "markdown",
      "source": [
        "**Praktikum 4**\n",
        "Perulangan"
      ],
      "metadata": {
        "id": "5lQYMXGqeWu1"
      }
    },
    {
      "cell_type": "code",
      "source": [
        "# 1. For Loop dengan range()\n",
        "print (\"1) Forloop dengan range()\")\n",
        "for i in range(5):\n",
        "  print(\"Perulangan ke-\", i)\n",
        "# range(5): menghasilkan nilai 0, 1, 2, 3, dan 4\n",
        "# Sehingga perulangan akan berjalan sebanyak 5 kali\n",
        "\n",
        "print() # pemisah output\n",
        "\n",
        "# 2. For Loop untuk mengiterai List\n",
        "print(\"2) FOR Loop mengiterasi list\")\n",
        "buah = [\"apel\", \"mangga\", \"jeruk\", \"Pisang\"]\n",
        "for item in buah:\n",
        "  print(\"Buah:\", item)\n",
        "# Loop akan mengeksekusi setiap elemen dalam list \"buah\"\n",
        "\n",
        "print()\n",
        "\n",
        "# 3. While Loop\n",
        "print(\"3) WHILE Loop sederhana\")\n",
        "count = 0\n",
        "while count < 5:\n",
        "  print(\"count =\", count)\n",
        "  count += 1 # increment\n",
        "# Perulangan while terus dijalankan selama kondisi (count < 5) bernilai True\n",
        "\n",
        "print()\n",
        "\n",
        "# 4. BREAK pada Loop\n",
        "print('4) BREAK di dalam loop')\n",
        "for i in range(10):\n",
        "  if i == 3:\n",
        "    print(\"Loop dihentikan pada i =\", i)\n",
        "    break # mengakhiri loop saat i = 3\n",
        "  print(\"i =\", i)\n",
        "# Keyword break langsung menghentikan keseluruhan perulangan\n",
        "\n",
        "print()\n",
        "\n",
        "# 5. CONTINUE pada Loop\n",
        "print(\"5) CONTINUE di dalam Loop\")\n",
        "for i in range(5):\n",
        "  if i == 2:\n",
        "    print(\"Lewati i =\", i, \"dengan continue\")\n",
        "    continue # melewati iterasi saat ini dan lanjut ke iterasi berikutnya\n",
        "  print(\"i =\", i)\n",
        "# Saat i = 2, baris print(\"i =\", i) tidak akan dieksekusi\n",
        "\n",
        "print()\n",
        "\n",
        "# 6. NESTED Loop (Loop Bersarang)\n",
        "print(\"6) NESTED Loop\")\n",
        "for i in range(3):    # Loop Luat (outer loop)\n",
        "  for j in range(2):  # Loop Dalam (inner loop)\n",
        "    print(f\"i={i}, j={j}\")\n",
        "# pada setiap iterasi i, loop j akan berjalan dari 0 sampai 1\n",
        "\n",
        "print()\n",
        "\n",
        "# 7. Memanfaatkan ELSE pada Loop\n",
        "print(\"7) ELSE pada loop for/while\")\n",
        "# Python memeiliki fitur unik: blok else pada loop\n",
        "# Blok else akan dieksekusi jika loop selesai tanpa di-break.\n",
        "\n",
        "for x in range(3):\n",
        "  print(\"x =\", x)\n",
        "else:\n",
        "  print(\"Loop for telah selesai tanpa break.\\n\")\n",
        "\n",
        "y = 0\n",
        "while y < 3:\n",
        "  print(\"y =\", y)\n",
        "  y += 1\n",
        "else:\n",
        "  print(\"Loop while telah selesai tanpa break.\\n\")\n",
        "\n",
        "# 8. PASS sebagai placeholder\n",
        "print(\"8) PASS (placeholder)\")\n",
        "for i in range(3):\n",
        "  if i == 1:\n",
        "    pass # pass tidak melakukan apa-apa, digunakan sebagai placeholder\n",
        "  print(\"i =\", i)"
      ],
      "metadata": {
        "id": "I-_B0eDtebvf",
        "outputId": "98a3d9ac-5ce1-49cb-e41a-27d8b9fb29d2",
        "colab": {
          "base_uri": "https://localhost:8080/"
        }
      },
      "execution_count": 57,
      "outputs": [
        {
          "output_type": "stream",
          "name": "stdout",
          "text": [
            "1) Forloop dengan range()\n",
            "Perulangan ke- 0\n",
            "Perulangan ke- 1\n",
            "Perulangan ke- 2\n",
            "Perulangan ke- 3\n",
            "Perulangan ke- 4\n",
            "\n",
            "2) FOR Loop mengiterasi list\n",
            "Buah: apel\n",
            "Buah: mangga\n",
            "Buah: jeruk\n",
            "Buah: Pisang\n",
            "\n",
            "3) WHILE Loop sederhana\n",
            "count = 0\n",
            "count = 1\n",
            "count = 2\n",
            "count = 3\n",
            "count = 4\n",
            "\n",
            "4) BREAK di dalam loop\n",
            "i = 0\n",
            "i = 1\n",
            "i = 2\n",
            "Loop dihentikan pada i = 3\n",
            "\n",
            "5) CONTINUE di dalam Loop\n",
            "i = 0\n",
            "i = 1\n",
            "Lewati i = 2 dengan continue\n",
            "i = 3\n",
            "i = 4\n",
            "\n",
            "6) NESTED Loop\n",
            "i=0, j=0\n",
            "i=0, j=1\n",
            "i=1, j=0\n",
            "i=1, j=1\n",
            "i=2, j=0\n",
            "i=2, j=1\n",
            "\n",
            "7) ELSE pada loop for/while\n",
            "x = 0\n",
            "x = 1\n",
            "x = 2\n",
            "Loop for telah selesai tanpa break.\n",
            "\n",
            "y = 0\n",
            "y = 1\n",
            "y = 2\n",
            "Loop while telah selesai tanpa break.\n",
            "\n",
            "8) PASS (placeholder)\n",
            "i = 0\n",
            "i = 1\n",
            "i = 2\n"
          ]
        }
      ]
    },
    {
      "cell_type": "markdown",
      "source": [
        "# Tugas"
      ],
      "metadata": {
        "id": "JgC0Dsehs5a6"
      }
    },
    {
      "cell_type": "markdown",
      "source": [
        "**Program Menghitung BMI**"
      ],
      "metadata": {
        "id": "2NdjCNJ0tZR9"
      }
    },
    {
      "cell_type": "code",
      "source": [
        "berat = float(input(\"Masukkan berat badan Anda (kg): \"))\n",
        "tinggi = float(input(\"Masukkan tinggi badan Anda (cm): \"))\n",
        "tinggi = tinggi / 100\n",
        "BMI = berat / (tinggi ** 2)\n",
        "if BMI < 18.5:\n",
        "  print(\"Berat badan Anda kurang\")\n",
        "elif BMI >= 18.5 and BMI < 24.9:\n",
        "  print(\"Berat badan Anda normal\")\n",
        "elif BMI >= 25 and BMI < 29.9:\n",
        "  print(\"Berat badan Anda berlebih\")\n",
        "else:\n",
        "  print(\"Berat badan Anda sangat berlebih\")\n",
        "print(f\"BMI Anda adalah: {BMI}\")"
      ],
      "metadata": {
        "id": "ZNdnDO6xtYff",
        "outputId": "3edb5276-9ac2-443a-a3ce-6767ddacdf0f",
        "colab": {
          "base_uri": "https://localhost:8080/"
        }
      },
      "execution_count": 66,
      "outputs": [
        {
          "output_type": "stream",
          "name": "stdout",
          "text": [
            "Masukkan berat badan Anda (kg): 50\n",
            "Masukkan tinggi badan Anda (cm): 167\n",
            "Berat badan Anda kurang\n",
            "BMI Anda adalah: 17.92821542543655\n"
          ]
        }
      ]
    },
    {
      "cell_type": "markdown",
      "source": [
        "**Program Bilangan Genap, Ganjil, dan Prima**"
      ],
      "metadata": {
        "id": "Nbme3RyT1DEH"
      }
    },
    {
      "cell_type": "code",
      "source": [
        "# prompt: menentukan suatu bilangan genap, ganjil, dan prima. dengan input dan output prima terpisah\n",
        "\n",
        "def is_prime(num):\n",
        "  \"\"\"Checks if a number is prime.\"\"\"\n",
        "  if num <= 1:\n",
        "    return False\n",
        "  for i in range(2, int(num**0.5) + 1):\n",
        "    if num % i == 0:\n",
        "      return False\n",
        "  return True\n",
        "\n",
        "# Input\n",
        "number = int(input(\"Masukkan bilangan bulat: \"))\n",
        "\n",
        "# Check even/odd\n",
        "if number % 2 == 0:\n",
        "  print(f\"{number} adalah bilangan genap.\")\n",
        "else:\n",
        "  print(f\"{number} adalah bilangan ganjil.\")\n",
        "\n",
        "# Check prime (separate output)\n",
        "if is_prime(number):\n",
        "  print(f\"{number} adalah bilangan prima.\")\n"
      ],
      "metadata": {
        "id": "45ClS5C01CXK",
        "outputId": "5176bcd3-0644-4fe1-bf68-3a449779785b",
        "colab": {
          "base_uri": "https://localhost:8080/"
        }
      },
      "execution_count": 80,
      "outputs": [
        {
          "output_type": "stream",
          "name": "stdout",
          "text": [
            "Masukkan bilangan bulat: 50\n",
            "50 adalah bilangan genap.\n"
          ]
        }
      ]
    },
    {
      "cell_type": "code",
      "source": [
        "s = 'Hello, world'\n",
        "str(s)\n",
        "repr(s)\n",
        "str(1/7)\n",
        "x = 10 * 3.25\n",
        "y = 200 * 200\n",
        "s = 'The value of x is ' + repr(x) + ', and y is ' + repr(y) + '...'\n",
        "print(s)\n",
        "hello = 'hello, world\\n'\n",
        "hellos = repr(hello)\n",
        "print(hellos)\n",
        "repr((x, y, ('spam', 'eggs')))"
      ],
      "metadata": {
        "id": "_xZQMmVB7ng7",
        "outputId": "e4f22c5d-575a-4645-a899-d4d9f55a5de1",
        "colab": {
          "base_uri": "https://localhost:8080/",
          "height": 70
        }
      },
      "execution_count": 79,
      "outputs": [
        {
          "output_type": "stream",
          "name": "stdout",
          "text": [
            "The value of x is 32.5, and y is 40000...\n",
            "'hello, world\\n'\n"
          ]
        },
        {
          "output_type": "execute_result",
          "data": {
            "text/plain": [
              "\"(32.5, 40000, ('spam', 'eggs'))\""
            ],
            "application/vnd.google.colaboratory.intrinsic+json": {
              "type": "string"
            }
          },
          "metadata": {},
          "execution_count": 79
        }
      ]
    }
  ]
}