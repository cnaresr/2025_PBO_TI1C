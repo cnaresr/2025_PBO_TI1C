{
  "nbformat": 4,
  "nbformat_minor": 0,
  "metadata": {
    "colab": {
      "provenance": [],
      "authorship_tag": "ABX9TyPfvG6NxzHP/liPqmAImSqu",
      "include_colab_link": true
    },
    "kernelspec": {
      "name": "python3",
      "display_name": "Python 3"
    },
    "language_info": {
      "name": "python"
    }
  },
  "cells": [
    {
      "cell_type": "markdown",
      "metadata": {
        "id": "view-in-github",
        "colab_type": "text"
      },
      "source": [
        "<a href=\"https://colab.research.google.com/github/cnaresr/2025_PBO_TI1C/blob/main/Jobsheet5.ipynb\" target=\"_parent\"><img src=\"https://colab.research.google.com/assets/colab-badge.svg\" alt=\"Open In Colab\"/></a>"
      ]
    },
    {
      "cell_type": "markdown",
      "source": [
        "# Latihan\n"
      ],
      "metadata": {
        "id": "Ec4qUICyeO1t"
      }
    },
    {
      "cell_type": "markdown",
      "source": [
        "## Praktikum 1: Polimorfisme dengan Inheritance dan Overriding"
      ],
      "metadata": {
        "id": "PsiJJ1GgewO-"
      }
    },
    {
      "cell_type": "code",
      "source": [
        "# Kelas Induk\n",
        "class Burung:\n",
        "  def __init__(self, nama):\n",
        "    self.nama = nama\n",
        "\n",
        "  def terbang(self):\n",
        "    print(f\"{self.nama} terbang dengan cara umum.\")\n",
        "\n",
        "  def bersuara(self):\n",
        "    print(f\"{self.nama} mengeluarkan suara burung.\")\n",
        "\n",
        "# Kelas Anak 1\n",
        "class Elang(Burung):\n",
        "  def __init__(self, nama, rentang_sayap):\n",
        "    super().__init__(nama)\n",
        "    self.rentang_sayap = rentang_sayap\n",
        "\n",
        "  def terbang(self):\n",
        "    print(f\"{self.nama} terbang tinggi melayang di angkasa\")\n",
        "\n",
        "  def bersuara(self):\n",
        "    print(f\"{self.nama} berteriak nyaring!\")\n",
        "\n",
        "\n",
        "# Kelas Anak 2\n",
        "class Pipit(Burung):\n",
        "  def __init__(self, nama, warna_bulu):\n",
        "    super().__init__(nama)\n",
        "    self.warna_bulu = warna_bulu\n",
        "\n",
        "  def terbang(self):\n",
        "    print(f\"{self.nama} terbang cepat di antara pepohonan.\")\n",
        "\n",
        "  def bersuara(self):\n",
        "    print(f\"{self.nama} berkicau merdu: Cit cit!\")\n",
        "\n",
        "def demonstrasi_aksi_burung(daftar_burung):\n",
        "  print(\"\\nAksi Burung:\")\n",
        "  for burung in daftar_burung:\n",
        "    print(f\"-- Aksi untuk {burung.nama} --\")\n",
        "    burung.terbang()\n",
        "    burung.bersuara()\n",
        "    print(\"-\"*15)\n",
        "\n",
        "# Kode utama\n",
        "if __name__ == \"__main__\":\n",
        "  elang_jawa = Elang(\"Elang Jawa\", 1.5)\n",
        "  pipit_gereja = Pipit(\"Pipit Gereja\", \"Coklat\")\n",
        "  burung_aneh = Burung(\"Burung Misterius\")\n",
        "\n",
        "  koleksi_burung = [elang_jawa, pipit_gereja, burung_aneh]\n",
        "\n",
        "  demonstrasi_aksi_burung(koleksi_burung)"
      ],
      "metadata": {
        "id": "nV3hQIQ7ev8Z",
        "outputId": "61e265e0-d4c3-47f4-da7e-645878967ca6",
        "colab": {
          "base_uri": "https://localhost:8080/"
        }
      },
      "execution_count": null,
      "outputs": [
        {
          "output_type": "stream",
          "name": "stdout",
          "text": [
            "\n",
            "Aksi Burung:\n",
            "-- Aksi untuk Elang Jawa --\n",
            "Elang Jawa terbang tinggi melayang di angkasa\n",
            "Elang Jawa berteriak nyaring!\n",
            "---------------\n",
            "-- Aksi untuk Pipit Gereja --\n",
            "Pipit Gereja terbang cepat di antara pepohonan.\n",
            "Pipit Gereja berkicau merdu: Cit cit!\n",
            "---------------\n",
            "-- Aksi untuk Burung Misterius --\n",
            "Burung Misterius terbang dengan cara umum.\n",
            "Burung Misterius mengeluarkan suara burung.\n",
            "---------------\n"
          ]
        }
      ]
    },
    {
      "cell_type": "markdown",
      "source": [
        "## Praktikum 2: Polimorfisme dengan Duck Typing"
      ],
      "metadata": {
        "id": "ZkVVUd18hwpQ"
      }
    },
    {
      "cell_type": "code",
      "source": [
        "class Kucing:\n",
        "  def bersuara(self):\n",
        "    print(\"Kucing: Meow!\")\n",
        "\n",
        "class Anjing:\n",
        "  def bersuara(self):\n",
        "    print(\"Anjing: Guk Guk!\")\n",
        "\n",
        "class Bebek:\n",
        "  def bersuara(self):\n",
        "    print(\"Bebek: Kwek kwek!\")\n",
        "\n",
        "class Mobil:\n",
        "  def jalankan(self):\n",
        "    print(\"Mobil: brummm!\")\n",
        "\n",
        "def buat_suara(objek_yang_bisa_bersuara):\n",
        "  try:\n",
        "    objek_yang_bisa_bersuara.bersuara()\n",
        "  except AttributeError:\n",
        "    print(f\"Objek {type(objek_yang_bisa_bersuara).__name__} tidak bisa bersuara\")\n",
        "\n",
        "# kode utama\n",
        "if __name__ == \"__main__\":\n",
        "  kucing1 = Kucing()\n",
        "  anjing1 = Anjing()\n",
        "  bebek1 = Bebek()\n",
        "  mobil1 = Mobil()\n",
        "\n",
        "  daftar_objek = [kucing1, anjing1, bebek1, mobil1]\n",
        "\n",
        "  print(\"Demonstrasi Duck Typing:\")\n",
        "  for item in daftar_objek:\n",
        "    buat_suara(item)"
      ],
      "metadata": {
        "id": "1ZoLQnYmhybY",
        "outputId": "8c5a7783-8fd0-464d-abd3-c471ca221602",
        "colab": {
          "base_uri": "https://localhost:8080/"
        }
      },
      "execution_count": null,
      "outputs": [
        {
          "output_type": "stream",
          "name": "stdout",
          "text": [
            "Demonstrasi Duck Typing:\n",
            "Kucing: Meow!\n",
            "Anjing: Guk Guk!\n",
            "Bebek: Kwek kwek!\n",
            "Objek Mobil tidak bisa bersuara\n"
          ]
        }
      ]
    },
    {
      "cell_type": "markdown",
      "source": [
        "## Praktikum 3: Simulasi Overloading dalam Metode Kelas dengan *args"
      ],
      "metadata": {
        "id": "O7kPmWYqjjez"
      }
    },
    {
      "cell_type": "code",
      "source": [
        "class KalkulatorSederhana:\n",
        "  def __init__(self, nama=\"Kalkulator\"):\n",
        "    self.nama = nama\n",
        "    print(f\"{self.nama} siap digunakan\")\n",
        "\n",
        "  def tambah(self, *args):\n",
        "    print(f\"\\nMemanggil metode tambah dengan argumen: {args}\")\n",
        "    if not args:\n",
        "      print(\"Tidak ada angka untuk dijumlahkan.\")\n",
        "      return 0\n",
        "\n",
        "    total = 0\n",
        "    valid_input = True\n",
        "    for angka in args:\n",
        "      if isinstance(angka, (int, float)):\n",
        "        total += angka\n",
        "      else:\n",
        "        print(f\"Peringatan: Argumen '{angka}' bukan angka dan akan diabaikan\")\n",
        "\n",
        "        valid_input = False\n",
        "    if valid_input:\n",
        "      print(f\"Hasil penjumlahan: {total}\")\n",
        "    else :\n",
        "      print(f\"Hasil penjumlahan (dengan beberapa input diabaikan): {total} \")\n",
        "    return total\n",
        "\n",
        "# kode utama\n",
        "if __name__ == \"__main__\":\n",
        "  calc = KalkulatorSederhana(\"Calc-01\")\n",
        "\n",
        "  print(\"\\n--- Percobaan Penjumlahan ---\")\n",
        "  calc.tambah(5, 10)\n",
        "  calc.tambah(2,3,5,10)\n",
        "  calc.tambah(100)\n",
        "  calc.tambah()\n",
        "  calc.tambah(1,2,\"tiga\",4,5.5)"
      ],
      "metadata": {
        "id": "re2fyXvbjmL3",
        "outputId": "85eeb4e1-5dcd-4285-88d1-beee15560194",
        "colab": {
          "base_uri": "https://localhost:8080/"
        }
      },
      "execution_count": null,
      "outputs": [
        {
          "output_type": "stream",
          "name": "stdout",
          "text": [
            "Calc-01 siap digunakan\n",
            "\n",
            "--- Percobaan Penjumlahan ---\n",
            "\n",
            "Memanggil metode tambah dengan argumen: (5, 10)\n",
            "Hasil penjumlahan: 15\n",
            "\n",
            "Memanggil metode tambah dengan argumen: (2, 3, 5, 10)\n",
            "Hasil penjumlahan: 20\n",
            "\n",
            "Memanggil metode tambah dengan argumen: (100,)\n",
            "Hasil penjumlahan: 100\n",
            "\n",
            "Memanggil metode tambah dengan argumen: ()\n",
            "Tidak ada angka untuk dijumlahkan.\n",
            "\n",
            "Memanggil metode tambah dengan argumen: (1, 2, 'tiga', 4, 5.5)\n",
            "Peringatan: Argumen 'tiga' bukan angka dan akan diabaikan\n",
            "Hasil penjumlahan (dengan beberapa input diabaikan): 12.5 \n"
          ]
        }
      ]
    },
    {
      "cell_type": "markdown",
      "source": [
        "## Praktikum 4: Simulasi Overloading dalam Metode Kelas dengan *args dan **kwargs"
      ],
      "metadata": {
        "id": "QhrQ6gwYlcVQ"
      }
    },
    {
      "cell_type": "code",
      "source": [
        "class DataProcessor:\n",
        "  def __init__(self, processor_id):\n",
        "    self.processor_id = processor_id\n",
        "    print(f\"Data Processor {self.processor_id} siap.\")\n",
        "\n",
        "  def process(self, *args, **kwargs):\n",
        "    print(f\"\\n--- {self.processor_id} Memproses Data ---\")\n",
        "\n",
        "    if args:\n",
        "      print(\"Argumen Posisi Diterima:\")\n",
        "      for i, arg in enumerate(args):\n",
        "        print(f\" args[{i}]: {arg} (tipe: {type(arg).__name__})\")\n",
        "      else:\n",
        "        print(\"Tidak ada argumen posisi.\")\n",
        "\n",
        "    if kwargs:\n",
        "      print(\"Argumen Kata Kunci Diterima:\")\n",
        "      for kunci, nilai in kwargs.items():\n",
        "        print(f\" {kunci}: {nilai} (tipe: {type(nilai).__name__})\")\n",
        "      else:\n",
        "        print(\"Tidak ada argumen kata kunci.\")\n",
        "    print(\"---------------------------------\")\n",
        "\n",
        "\n",
        "# kode utama\n",
        "if __name__ == \"__main__\":\n",
        "\n",
        "  processor1 = DataProcessor(\"DP-001\")\n",
        "\n",
        "  print(\"\\nPanggilan 1: Tanpa argumen tambahan\")\n",
        "  processor1.process()\n",
        "\n",
        "  print(\"\\nPanggilan 2: Hanya argumen posisi\")\n",
        "  processor1.process(100, \"Status OK\", 99.9, False)\n",
        "\n",
        "  print(\"\\nPanggilan 3: Hanya argumen kata kunci\")\n",
        "  processor1.process(user=\"admin\", level=5, mode=\"verbose\")\n",
        "\n",
        "  print(\"\\nPanggilan 4: Kombinasi argumen posisi dan kata kunci\")\n",
        "  processor1.process(\"Task-A\", \"Task-B\", status=\"Running\", priority=\"High\", thread_id=54321)\n",
        "\n",
        "  print(\"\\nPanggilan 5: Argumen posisi kompleks\")\n",
        "  list_ids = [\"A1\", \"B2\", \"C3\"]\n",
        "  dict_params = {\"timeout\": 30, \"retry\":3}\n",
        "  processor1.process(list_ids, dict_params, owner=\"system\", enable=True)"
      ],
      "metadata": {
        "id": "Hkzkgv5CleAa",
        "outputId": "48fe8b2b-5c01-4767-9303-37d6b0a5744f",
        "colab": {
          "base_uri": "https://localhost:8080/"
        }
      },
      "execution_count": null,
      "outputs": [
        {
          "output_type": "stream",
          "name": "stdout",
          "text": [
            "Data Processor DP-001 siap.\n",
            "\n",
            "Panggilan 1: Tanpa argumen tambahan\n",
            "\n",
            "--- DP-001 Memproses Data ---\n",
            "---------------------------------\n",
            "\n",
            "Panggilan 2: Hanya argumen posisi\n",
            "\n",
            "--- DP-001 Memproses Data ---\n",
            "Argumen Posisi Diterima:\n",
            " args[0]: 100 (tipe: int)\n",
            " args[1]: Status OK (tipe: str)\n",
            " args[2]: 99.9 (tipe: float)\n",
            " args[3]: False (tipe: bool)\n",
            "Tidak ada argumen posisi.\n",
            "---------------------------------\n",
            "\n",
            "Panggilan 3: Hanya argumen kata kunci\n",
            "\n",
            "--- DP-001 Memproses Data ---\n",
            "Argumen Kata Kunci Diterima:\n",
            " user: admin (tipe: str)\n",
            " level: 5 (tipe: int)\n",
            " mode: verbose (tipe: str)\n",
            "Tidak ada argumen kata kunci.\n",
            "---------------------------------\n",
            "\n",
            "Panggilan 4: Kombinasi argumen posisi dan kata kunci\n",
            "\n",
            "--- DP-001 Memproses Data ---\n",
            "Argumen Posisi Diterima:\n",
            " args[0]: Task-A (tipe: str)\n",
            " args[1]: Task-B (tipe: str)\n",
            "Tidak ada argumen posisi.\n",
            "Argumen Kata Kunci Diterima:\n",
            " status: Running (tipe: str)\n",
            " priority: High (tipe: str)\n",
            " thread_id: 54321 (tipe: int)\n",
            "Tidak ada argumen kata kunci.\n",
            "---------------------------------\n",
            "\n",
            "Panggilan 5: Argumen posisi kompleks\n",
            "\n",
            "--- DP-001 Memproses Data ---\n",
            "Argumen Posisi Diterima:\n",
            " args[0]: ['A1', 'B2', 'C3'] (tipe: list)\n",
            " args[1]: {'timeout': 30, 'retry': 3} (tipe: dict)\n",
            "Tidak ada argumen posisi.\n",
            "Argumen Kata Kunci Diterima:\n",
            " owner: system (tipe: str)\n",
            " enable: True (tipe: bool)\n",
            "Tidak ada argumen kata kunci.\n",
            "---------------------------------\n"
          ]
        }
      ]
    },
    {
      "cell_type": "markdown",
      "source": [
        "## Praktikum 5: Kombinasi Polimorfisme (Inheritance & Duck Typing)"
      ],
      "metadata": {
        "id": "8qlAxDtuogYx"
      }
    },
    {
      "cell_type": "code",
      "source": [
        "import math\n",
        "\n",
        "class Bentuk:\n",
        "  def nama_bentuk(self):\n",
        "    return \"Bentuk Generik\"\n",
        "\n",
        "  def hitung_luas(self):\n",
        "    raise NotImplementedError(\"Subclass harus mengimplementasikan metode ini\")\n",
        "\n",
        "class Lingkaran(Bentuk):\n",
        "  def __init__(self, radius):\n",
        "    self.radius = radius\n",
        "\n",
        "  def nama_bentuk(self):\n",
        "    return \"Lingkaran\"\n",
        "\n",
        "  def hitung_luas(self):\n",
        "    return math.pi * (self.radius ** 2)\n",
        "\n",
        "class Persegi(Bentuk):\n",
        "  def __init__(self, sisi):\n",
        "    self.sisi = sisi\n",
        "\n",
        "  def nama_bentuk(self):\n",
        "    return \"Persegi\"\n",
        "\n",
        "  def hitung_luas(self):\n",
        "    return self.sisi * self.sisi\n",
        "\n",
        "class TaplakMeja:\n",
        "  def __init__(self, panjang, lebar):\n",
        "    self.panjang = panjang\n",
        "    self.lebar = lebar\n",
        "\n",
        "  def hitung_luas(self):\n",
        "    return self.panjang * self.lebar\n",
        "\n",
        "  def deskripsi(self):\n",
        "    return f\"Taplak Meja {self.panjang} x {self.lebar}\"\n",
        "\n",
        "def tampilkan_info_luas(objek_dengan_luas):\n",
        "  print(\"-\"*20)\n",
        "  try:\n",
        "    luas = objek_dengan_luas.hitung_luas()\n",
        "    try:\n",
        "      nama = objek_dengan_luas.nama_bentuk()\n",
        "    except AttributeError:\n",
        "      nama = type(objek_dengan_luas).__name__\n",
        "\n",
        "    print(f\"Objek: {nama}\")\n",
        "    print(f\"Luas : {luas:.2f}\")\n",
        "  except AttributeError:\n",
        "    print(f\"Objek {type(objek_dengan_luas).__name__} tidak dapat dihitung luasnya (metode tidak ditemukan).\")\n",
        "  except NotImplementedError:\n",
        "    print(f\"Metode 'hitung_luas' belum diimplementasikan untuk {type(objek_dengan_luas).__name__}.\")\n",
        "\n",
        "# kode utama\n",
        "if __name__ == \"__main__\":\n",
        "  lingkaran1 = Lingkaran(7)\n",
        "  persegi1 = Persegi(5)\n",
        "  taplak1 = TaplakMeja(1.5, 0.8)\n",
        "  bentuk_dasar = Bentuk()\n",
        "  string_biasa = \"Ini string\"\n",
        "\n",
        "  daftar_item = [lingkaran1, persegi1, taplak1, bentuk_dasar, string_biasa]\n",
        "\n",
        "  print(\"Menampilkan Info Luas (Polimorfisme Campuran):\")\n",
        "  for item in daftar_item:\n",
        "    tampilkan_info_luas(item)"
      ],
      "metadata": {
        "id": "ekgJIUnioitm",
        "outputId": "3dde6b5c-0422-44dc-c1ce-bf7ff14196fe",
        "colab": {
          "base_uri": "https://localhost:8080/"
        }
      },
      "execution_count": null,
      "outputs": [
        {
          "output_type": "stream",
          "name": "stdout",
          "text": [
            "Menampilkan Info Luas (Polimorfisme Campuran):\n",
            "--------------------\n",
            "Objek: Lingkaran\n",
            "Luas : 153.94\n",
            "--------------------\n",
            "Objek: Persegi\n",
            "Luas : 25.00\n",
            "--------------------\n",
            "Objek: TaplakMeja\n",
            "Luas : 1.20\n",
            "--------------------\n",
            "Metode 'hitung_luas' belum diimplementasikan untuk Bentuk.\n",
            "--------------------\n",
            "Objek str tidak dapat dihitung luasnya (metode tidak ditemukan).\n"
          ]
        }
      ]
    },
    {
      "cell_type": "markdown",
      "source": [
        "## Praktikum 6: Kontrol Perilaku Polimorfik dengan isinstance()"
      ],
      "metadata": {
        "id": "8aXS50EIsstp"
      }
    },
    {
      "cell_type": "code",
      "source": [
        "class Burung:\n",
        "\n",
        "  def __init__(self, nama):\n",
        "    self.nama = nama\n",
        "\n",
        "  def terbang(self):\n",
        "    print(f\"{self.nama} terbang dengan cara umum.\")\n",
        "\n",
        "  def bersuara(self):\n",
        "    print(f\"{self.nama} mengeluarkan suara burung.\")\n",
        "\n",
        "class Elang(Burung):\n",
        "  def __init__(self, nama, rentang_sayap):\n",
        "    super().__init__(nama)\n",
        "    self.rentang_sayap = rentang_sayap\n",
        "\n",
        "  def terbang(self):\n",
        "    print(f\"{self.nama} terbang tinggi melayang di angkasa.\")\n",
        "\n",
        "  def bersuara(self):\n",
        "    print(f\"{self.nama} berteriak nyaring!\")\n",
        "\n",
        "  def berburu(self):\n",
        "    print(f\"{self.nama} sedang mencari mangsa dari ketinggian.\")\n",
        "\n",
        "class Pipit(Burung):\n",
        "  def __init__(self, nama, warna_bulu):\n",
        "    super().__init__(nama)\n",
        "    self.warna_bulu = warna_bulu\n",
        "\n",
        "  def terbang(self):\n",
        "    print(f\"{self.nama} terbang cepat di antara pepohonan.\")\n",
        "\n",
        "  def bersuara(self):\n",
        "    print(f\"{self.nama} berkicau merdu: Cit cit!\")\n",
        "\n",
        "  def membangun_sarang(self):\n",
        "    print(f\"{self.nama} sedang mengumpulkan ranting untuk sarang.\")\n",
        "\n",
        "def interaksi_dengan_burung(burung):\n",
        "  print(f\"\\n--- Berinteraksi dengan {type(burung).__name__}: {getattr(burung, 'nama', 'Objek tidak dikenal')} ---\")\n",
        "\n",
        "  if isinstance(burung, Burung):\n",
        "    burung.terbang()\n",
        "    burung.bersuara()\n",
        "\n",
        "    if isinstance(burung, Elang):\n",
        "      print(\"-> Ini adalah Elang!\")\n",
        "      burung.berburu()\n",
        "    elif isinstance(burung, Pipit):\n",
        "      print(\"-> ini adalah Pipit!\")\n",
        "      burung.membangun_sarang()\n",
        "    else :\n",
        "      print(\"-> ini adalah burung jenis umum (bukan Elang/Pipit).\")\n",
        "  else:\n",
        "    print(\"-> Objek ini bukan termasuk jenis Burung.\")\n",
        "  print(\"-\"*25)\n",
        "\n",
        "# kode utama\n",
        "if __name__ == \"__main__\":\n",
        "  elang_sumatra = Elang(\"Elang Sumatra\", 1.8)\n",
        "  pipit_rumah = Pipit(\"Pipit Rumah\", \"Abu-abu\")\n",
        "  merak = Burung(\"Merak\")\n",
        "  kucing_tetangga = \"Meong\"\n",
        "\n",
        "  koleksi_makhluk = [elang_sumatra, pipit_rumah, merak, kucing_tetangga]\n",
        "\n",
        "  for makhluk in koleksi_makhluk:\n",
        "    interaksi_dengan_burung(makhluk)"
      ],
      "metadata": {
        "id": "OyQqgySJs0vn",
        "outputId": "fead8af3-acf9-484b-efd9-cccc35f700a5",
        "colab": {
          "base_uri": "https://localhost:8080/"
        }
      },
      "execution_count": null,
      "outputs": [
        {
          "output_type": "stream",
          "name": "stdout",
          "text": [
            "\n",
            "--- Berinteraksi dengan Elang: Elang Sumatra ---\n",
            "Elang Sumatra terbang tinggi melayang di angkasa.\n",
            "Elang Sumatra berteriak nyaring!\n",
            "-> Ini adalah Elang!\n",
            "Elang Sumatra sedang mencari mangsa dari ketinggian.\n",
            "-------------------------\n",
            "\n",
            "--- Berinteraksi dengan Pipit: Pipit Rumah ---\n",
            "Pipit Rumah terbang cepat di antara pepohonan.\n",
            "Pipit Rumah berkicau merdu: Cit cit!\n",
            "-> ini adalah Pipit!\n",
            "Pipit Rumah sedang mengumpulkan ranting untuk sarang.\n",
            "-------------------------\n",
            "\n",
            "--- Berinteraksi dengan Burung: Merak ---\n",
            "Merak terbang dengan cara umum.\n",
            "Merak mengeluarkan suara burung.\n",
            "-> ini adalah burung jenis umum (bukan Elang/Pipit).\n",
            "-------------------------\n",
            "\n",
            "--- Berinteraksi dengan str: Objek tidak dikenal ---\n",
            "-> Objek ini bukan termasuk jenis Burung.\n",
            "-------------------------\n"
          ]
        }
      ]
    },
    {
      "cell_type": "markdown",
      "source": [
        "# Tugas"
      ],
      "metadata": {
        "id": "JopHFe6qwaIl"
      }
    },
    {
      "cell_type": "code",
      "source": [
        "# Kelas Induk Komputer\n",
        "class Komputer:\n",
        "    def __init__(self, merk, processor, ram_gb):\n",
        "        self.merk = merk\n",
        "        self.processor = processor\n",
        "        self.ram_gb = ram_gb\n",
        "\n",
        "    def info_spesifikasi(self):\n",
        "        print(f\"Merk: {self.merk}\")\n",
        "        print(f\"Processor: {self.processor}\")\n",
        "        print(f\"RAM: {self.ram_gb} GB\")\n",
        "\n",
        "    def jalankan_aplikasi(self, nama_aplikasi):\n",
        "        print(f\"{self.merk} menjalankan aplikasi: {nama_aplikasi}...\")\n",
        "\n",
        "    def install_software(self, *args):\n",
        "        if not args:\n",
        "            print(\"Tidak ada software yang diinstal.\")\n",
        "        else:\n",
        "            for software in args:\n",
        "                print(f\"Menginstall {software} di {self.merk}...\")\n",
        "\n",
        "# Kelas Anak Laptop\n",
        "class Laptop(Komputer):\n",
        "    def __init__(self, merk, processor, ram_gb, ukuran_layar_inch, berat_kg):\n",
        "        super().__init__(merk, processor, ram_gb)\n",
        "        self.ukuran_layar_inch = ukuran_layar_inch\n",
        "        self.berat_kg = berat_kg\n",
        "\n",
        "    def info_spesifikasi(self):\n",
        "        super().info_spesifikasi()\n",
        "        print(f\"Ukuran Layar: {self.ukuran_layar_inch} inch\")\n",
        "        print(f\"Berat: {self.berat_kg} Kg\")\n",
        "\n",
        "# Kelas Anak Dekstop\n",
        "class Desktop(Komputer):\n",
        "    def __init__(self, merk, processor, ram_gb, jenis_casing, monitor_external):\n",
        "        super().__init__(merk, processor, ram_gb)\n",
        "        self.jenis_casing = jenis_casing\n",
        "        self.monitor_external = monitor_external\n",
        "\n",
        "    def info_spesifikasi(self):\n",
        "        super().info_spesifikasi()\n",
        "        print(f\"Jenis Casing: {self.jenis_casing}\")\n",
        "        print(f\"Monitor External: {'Ya' if self.monitor_external else 'Tidak'}\")\n",
        "\n",
        "# Fungsi Polimorfik\n",
        "def cetak_semua_spesifikasi(daftar_komputer):\n",
        "    print(\"\\n== Spesifikasi Semua Komputer ==\")\n",
        "    for komputer in daftar_komputer:\n",
        "        komputer.info_spesifikasi()\n",
        "        print(\"-\" * 30)\n",
        "\n",
        "# Fungsi *args\n",
        "def install_software(self, *args):\n",
        "    if not args:\n",
        "        print(\"Tidak ada software yang diinstal.\")\n",
        "    else:\n",
        "        for software in args:\n",
        "            print(f\"Menginstall {software} di {self.merk}...\")\n",
        "\n",
        "\n",
        "# Kode Utama\n",
        "if __name__ == \"__main__\":\n",
        "    laptop1 = Laptop(\"ASUS ROG\", \"Intel i7\", 16, 15.6, 2.2)\n",
        "    desktop1 = Desktop(\"Lenovo\", \"AMD Ryzen 5\", 32, \"Tower\", True)\n",
        "\n",
        "    daftar_komputer = [laptop1, desktop1]\n",
        "    cetak_semua_spesifikasi(daftar_komputer)\n",
        "\n",
        "    print(\"\\n== Simulasi Overloading: install_software ==\")\n",
        "    laptop1.install_software(\"VS Code\")\n",
        "    desktop1.install_software(\"Blender\", \"Photoshop\", \"Unity\")\n"
      ],
      "metadata": {
        "id": "0yoP53PLwb1v",
        "outputId": "4e6955b6-e087-4a84-e805-7fc7396aff41",
        "colab": {
          "base_uri": "https://localhost:8080/"
        }
      },
      "execution_count": 2,
      "outputs": [
        {
          "output_type": "stream",
          "name": "stdout",
          "text": [
            "\n",
            "== Spesifikasi Semua Komputer ==\n",
            "Merk: ASUS ROG\n",
            "Processor: Intel i7\n",
            "RAM: 16 GB\n",
            "Ukuran Layar: 15.6 inch\n",
            "Berat: 2.2 Kg\n",
            "------------------------------\n",
            "Merk: Lenovo\n",
            "Processor: AMD Ryzen 5\n",
            "RAM: 32 GB\n",
            "Jenis Casing: Tower\n",
            "Monitor External: Ya\n",
            "------------------------------\n",
            "\n",
            "== Simulasi Overloading: install_software ==\n",
            "Menginstall VS Code di ASUS ROG...\n",
            "Menginstall Blender di Lenovo...\n",
            "Menginstall Photoshop di Lenovo...\n",
            "Menginstall Unity di Lenovo...\n"
          ]
        }
      ]
    }
  ]
}